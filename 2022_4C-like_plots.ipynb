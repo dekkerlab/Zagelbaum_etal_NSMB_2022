{
 "cells": [
  {
   "cell_type": "code",
   "execution_count": 1,
   "metadata": {},
   "outputs": [],
   "source": [
    "%matplotlib inline\n",
    "import matplotlib.pyplot as plt\n",
    "import matplotlib as mpl\n",
    "import seaborn as sns\n",
    "import multiprocess as mp\n",
    "import numpy as np\n",
    "import pandas as pd\n",
    "import bioframe\n",
    "import cooltools\n",
    "import cooler\n",
    "import re\n",
    "import bbi\n",
    "from pybedtools import bedtool\n",
    "import pybedtools\n",
    "import pyranges\n",
    "from matplotlib.gridspec import GridSpec\n",
    "from cooltools import snipping\n",
    "import scipy\n"
   ]
  },
  {
   "cell_type": "code",
   "execution_count": 2,
   "metadata": {},
   "outputs": [],
   "source": [
    "mm10 = bioframe.fetch_chromsizes('mm10')\n",
    "chromsizes = bioframe.fetch_chromsizes('mm10')\n",
    "chromosomes = list(chromsizes.index)\n"
   ]
  },
  {
   "cell_type": "code",
   "execution_count": 3,
   "metadata": {},
   "outputs": [],
   "source": [
    "#naming, in this case 1Mb resolution coolers\n",
    "filepath_dmso_ND='/nl/umw_job_dekker/users/as38w/JZ2022_git/coolers/JZ-MEF-AsiS1-ND-dmso6h-HiCD2R1.mm10.nodups.65M.1000.mcool::resolutions/1000000'\n",
    "filepath_dmso_4OHT='/nl/umw_job_dekker/users/as38w/JZ2022_git/coolers/JZ-MEF-AsiS1-4OHT-dmso6h-HiCD2R1.mm10.nodups.65M.1000.mcool::resolutions/1000000'\n",
    "\n",
    "c_dmso_ND = cooler.Cooler(filepath_dmso_ND)\n",
    "c_dmso_4OHT = cooler.Cooler(filepath_dmso_4OHT)\n"
   ]
  },
  {
   "cell_type": "code",
   "execution_count": 4,
   "metadata": {},
   "outputs": [],
   "source": [
    "#fetch matrix\n",
    "##for JZ 4C plot == chr2:3000000-182113224\n",
    "resolution = c_dmso_ND.binsize\n",
    "mat_dmso_ND = c_dmso_ND.matrix(balance=True).fetch('chr2:3000000-182113224')\n",
    "mat_dmso_4OHT = c_dmso_4OHT.matrix(balance=True).fetch('chr2:3000000-182113224')\n"
   ]
  },
  {
   "cell_type": "code",
   "execution_count": 6,
   "metadata": {},
   "outputs": [
    {
     "data": {
      "text/html": [
       "<div>\n",
       "<style scoped>\n",
       "    .dataframe tbody tr th:only-of-type {\n",
       "        vertical-align: middle;\n",
       "    }\n",
       "\n",
       "    .dataframe tbody tr th {\n",
       "        vertical-align: top;\n",
       "    }\n",
       "\n",
       "    .dataframe thead th {\n",
       "        text-align: right;\n",
       "    }\n",
       "</style>\n",
       "<table border=\"1\" class=\"dataframe\">\n",
       "  <thead>\n",
       "    <tr style=\"text-align: right;\">\n",
       "      <th></th>\n",
       "      <th>chrom</th>\n",
       "      <th>diag</th>\n",
       "      <th>n_valid</th>\n",
       "      <th>count.sum</th>\n",
       "      <th>balanced.sum</th>\n",
       "      <th>count.avg</th>\n",
       "      <th>balanced.avg</th>\n",
       "    </tr>\n",
       "  </thead>\n",
       "  <tbody>\n",
       "    <tr>\n",
       "      <th>199</th>\n",
       "      <td>chr2</td>\n",
       "      <td>3</td>\n",
       "      <td>170</td>\n",
       "      <td>56369.0</td>\n",
       "      <td>2.038206</td>\n",
       "      <td>331.582353</td>\n",
       "      <td>0.011989</td>\n",
       "    </tr>\n",
       "    <tr>\n",
       "      <th>200</th>\n",
       "      <td>chr2</td>\n",
       "      <td>4</td>\n",
       "      <td>169</td>\n",
       "      <td>36096.0</td>\n",
       "      <td>1.264477</td>\n",
       "      <td>213.585799</td>\n",
       "      <td>0.007482</td>\n",
       "    </tr>\n",
       "    <tr>\n",
       "      <th>201</th>\n",
       "      <td>chr2</td>\n",
       "      <td>5</td>\n",
       "      <td>169</td>\n",
       "      <td>28605.0</td>\n",
       "      <td>0.972222</td>\n",
       "      <td>169.260355</td>\n",
       "      <td>0.005753</td>\n",
       "    </tr>\n",
       "    <tr>\n",
       "      <th>202</th>\n",
       "      <td>chr2</td>\n",
       "      <td>6</td>\n",
       "      <td>169</td>\n",
       "      <td>23068.0</td>\n",
       "      <td>0.784912</td>\n",
       "      <td>136.497041</td>\n",
       "      <td>0.004644</td>\n",
       "    </tr>\n",
       "    <tr>\n",
       "      <th>203</th>\n",
       "      <td>chr2</td>\n",
       "      <td>7</td>\n",
       "      <td>169</td>\n",
       "      <td>23555.0</td>\n",
       "      <td>0.766754</td>\n",
       "      <td>139.378698</td>\n",
       "      <td>0.004537</td>\n",
       "    </tr>\n",
       "  </tbody>\n",
       "</table>\n",
       "</div>"
      ],
      "text/plain": [
       "    chrom  diag  n_valid  count.sum  balanced.sum   count.avg  balanced.avg\n",
       "199  chr2     3      170    56369.0      2.038206  331.582353      0.011989\n",
       "200  chr2     4      169    36096.0      1.264477  213.585799      0.007482\n",
       "201  chr2     5      169    28605.0      0.972222  169.260355      0.005753\n",
       "202  chr2     6      169    23068.0      0.784912  136.497041      0.004644\n",
       "203  chr2     7      169    23555.0      0.766754  139.378698      0.004537"
      ]
     },
     "execution_count": 6,
     "metadata": {},
     "output_type": "execute_result"
    }
   ],
   "source": [
    "#Generate expected file if needing to normalise: \n",
    "## \"cooltools compute-expected -t cis\" \n",
    "    #default cis\n",
    "\n",
    "exp_dmso_ND=pd.read_csv('/nl/umw_job_dekker/users/as38w/JZ2022_git/coolers/JZ-MEF-AsiS1-ND-dmso6h-HiCD2R1.mm10.1000000.cis.expected', sep=\"\\t\")\n",
    "exp_dmso_ND=exp_dmso_ND[exp_dmso_ND['chrom']==\"chr2\"]\n",
    "exp_dmso_ND=exp_dmso_ND[exp_dmso_ND['diag']>=3]\n",
    "\n",
    "exp_dmso_4OHT=pd.read_csv('/nl/umw_job_dekker/users/as38w/JZ2022_git/coolers/JZ-MEF-AsiS1-4OHT-dmso6h-HiCD2R1.mm10.1000000.cis.expected', sep=\"\\t\")\n",
    "exp_dmso_4OHT=exp_dmso_4OHT[exp_dmso_4OHT['chrom']==\"chr2\"]\n",
    "exp_dmso_4OHT=exp_dmso_4OHT[exp_dmso_4OHT['diag']>=3]\n",
    "\n",
    "exp_dmso_4OHT.head()\n"
   ]
  },
  {
   "cell_type": "code",
   "execution_count": 7,
   "metadata": {},
   "outputs": [
    {
     "data": {
      "text/plain": [
       "array([[0.01201999, 0.00794576, 0.0062668 , ...,        nan,        nan,\n",
       "               nan],\n",
       "       [0.00794576, 0.01201999, 0.00794576, ...,        nan,        nan,\n",
       "               nan],\n",
       "       [0.0062668 , 0.00794576, 0.01201999, ..., 0.00062935,        nan,\n",
       "               nan],\n",
       "       ...,\n",
       "       [       nan,        nan, 0.00062935, ..., 0.01201999, 0.00794576,\n",
       "        0.0062668 ],\n",
       "       [       nan,        nan,        nan, ..., 0.00794576, 0.01201999,\n",
       "        0.00794576],\n",
       "       [       nan,        nan,        nan, ..., 0.0062668 , 0.00794576,\n",
       "        0.01201999]])"
      ]
     },
     "execution_count": 7,
     "metadata": {},
     "output_type": "execute_result"
    }
   ],
   "source": [
    "#for cis expected (in trans is a scalar)\n",
    "from numpy import concatenate, zeros\n",
    "from scipy.linalg import toeplitz\n",
    "\n",
    "exp_dmso_ND_np=exp_dmso_ND['balanced.avg'].to_numpy()\n",
    "exp_dmso_4OHT_np=exp_dmso_4OHT['balanced.avg'].to_numpy()\n",
    "\n",
    "mat_exp_dmso_ND_np=toeplitz(exp_dmso_ND_np)\n",
    "mat_exp_dmso_4OHT_np=toeplitz(exp_dmso_4OHT_np)\n",
    "\n",
    "mat_exp_dmso_ND_np\n"
   ]
  },
  {
   "cell_type": "code",
   "execution_count": 8,
   "metadata": {},
   "outputs": [
    {
     "data": {
      "text/plain": [
       "array([[30.5964503 , 13.10259108,  2.64388544, ...,  0.        ,\n",
       "         0.        ,  0.        ],\n",
       "       [13.10259108, 28.82783656,  7.30212341, ...,  0.        ,\n",
       "         0.        ,  0.        ],\n",
       "       [ 2.64388544,  7.30212341, 33.08109624, ...,  1.14046243,\n",
       "         0.        ,  0.        ],\n",
       "       ...,\n",
       "       [ 0.        ,  0.        ,  1.14046243, ..., 30.3832181 ,\n",
       "         9.120744  ,  0.        ],\n",
       "       [ 0.        ,  0.        ,  0.        , ...,  9.120744  ,\n",
       "        22.98029782,  0.        ],\n",
       "       [ 0.        ,  0.        ,  0.        , ...,  0.        ,\n",
       "         0.        ,  0.        ]])"
      ]
     },
     "execution_count": 8,
     "metadata": {},
     "output_type": "execute_result"
    }
   ],
   "source": [
    "#observed/expected matrix\n",
    "mat_dmso_ND_oe=np.divide(mat_dmso_ND,mat_exp_dmso_ND_np)\n",
    "mat_dmso_ND_oe=np.nan_to_num(mat_dmso_ND_oe)\n",
    "mat_dmso_4OHT_oe=np.divide(mat_dmso_4OHT,mat_exp_dmso_4OHT_np)\n",
    "mat_dmso_4OHT_oe=np.nan_to_num(mat_dmso_4OHT_oe)\n",
    "\n",
    "mat_dmso_ND_oe\n"
   ]
  },
  {
   "cell_type": "code",
   "execution_count": 9,
   "metadata": {},
   "outputs": [
    {
     "data": {
      "text/plain": [
       "(180, 180)"
      ]
     },
     "execution_count": 9,
     "metadata": {},
     "output_type": "execute_result"
    }
   ],
   "source": [
    "mat_dmso_4OHT_oe.shape"
   ]
  },
  {
   "cell_type": "code",
   "execution_count": 12,
   "metadata": {},
   "outputs": [
    {
     "data": {
      "text/html": [
       "<div>\n",
       "<style scoped>\n",
       "    .dataframe tbody tr th:only-of-type {\n",
       "        vertical-align: middle;\n",
       "    }\n",
       "\n",
       "    .dataframe tbody tr th {\n",
       "        vertical-align: top;\n",
       "    }\n",
       "\n",
       "    .dataframe thead th {\n",
       "        text-align: right;\n",
       "    }\n",
       "</style>\n",
       "<table border=\"1\" class=\"dataframe\">\n",
       "  <thead>\n",
       "    <tr style=\"text-align: right;\">\n",
       "      <th></th>\n",
       "      <th>index</th>\n",
       "      <th>chrom</th>\n",
       "      <th>start</th>\n",
       "      <th>end</th>\n",
       "    </tr>\n",
       "  </thead>\n",
       "  <tbody>\n",
       "    <tr>\n",
       "      <th>0</th>\n",
       "      <td>199</td>\n",
       "      <td>chr2</td>\n",
       "      <td>3000000</td>\n",
       "      <td>4000000</td>\n",
       "    </tr>\n",
       "    <tr>\n",
       "      <th>1</th>\n",
       "      <td>200</td>\n",
       "      <td>chr2</td>\n",
       "      <td>4000000</td>\n",
       "      <td>5000000</td>\n",
       "    </tr>\n",
       "    <tr>\n",
       "      <th>2</th>\n",
       "      <td>201</td>\n",
       "      <td>chr2</td>\n",
       "      <td>5000000</td>\n",
       "      <td>6000000</td>\n",
       "    </tr>\n",
       "    <tr>\n",
       "      <th>3</th>\n",
       "      <td>202</td>\n",
       "      <td>chr2</td>\n",
       "      <td>6000000</td>\n",
       "      <td>7000000</td>\n",
       "    </tr>\n",
       "    <tr>\n",
       "      <th>4</th>\n",
       "      <td>203</td>\n",
       "      <td>chr2</td>\n",
       "      <td>7000000</td>\n",
       "      <td>8000000</td>\n",
       "    </tr>\n",
       "  </tbody>\n",
       "</table>\n",
       "</div>"
      ],
      "text/plain": [
       "   index chrom    start      end\n",
       "0    199  chr2  3000000  4000000\n",
       "1    200  chr2  4000000  5000000\n",
       "2    201  chr2  5000000  6000000\n",
       "3    202  chr2  6000000  7000000\n",
       "4    203  chr2  7000000  8000000"
      ]
     },
     "execution_count": 12,
     "metadata": {},
     "output_type": "execute_result"
    }
   ],
   "source": [
    "#non-elegant way to call chrom positions ... fix at some point\n",
    "##use cooler binnify to make binned genome coordinates and slice according to the matrix fetched\n",
    "bins=pd.read_csv('/nl/umw_job_dekker/users/as38w/JZ2022_git/coolers/mm10bins_1000000',sep='\\t',names=['chrom','start','end'])\n",
    "bins=bins[bins['chrom']=='chr2']\n",
    "bins=bins[bins['start']>=3000000]\n",
    "bins.reset_index(inplace=True)\n",
    "bins.head()\n"
   ]
  },
  {
   "cell_type": "code",
   "execution_count": 13,
   "metadata": {},
   "outputs": [
    {
     "data": {
      "text/html": [
       "<div>\n",
       "<style scoped>\n",
       "    .dataframe tbody tr th:only-of-type {\n",
       "        vertical-align: middle;\n",
       "    }\n",
       "\n",
       "    .dataframe tbody tr th {\n",
       "        vertical-align: top;\n",
       "    }\n",
       "\n",
       "    .dataframe thead th {\n",
       "        text-align: right;\n",
       "    }\n",
       "</style>\n",
       "<table border=\"1\" class=\"dataframe\">\n",
       "  <thead>\n",
       "    <tr style=\"text-align: right;\">\n",
       "      <th></th>\n",
       "      <th>OvE</th>\n",
       "      <th>obsv</th>\n",
       "      <th>chrom</th>\n",
       "      <th>start</th>\n",
       "      <th>end</th>\n",
       "    </tr>\n",
       "  </thead>\n",
       "  <tbody>\n",
       "    <tr>\n",
       "      <th>0</th>\n",
       "      <td>1.392379</td>\n",
       "      <td>0.005106</td>\n",
       "      <td>chr2</td>\n",
       "      <td>3000000</td>\n",
       "      <td>4000000</td>\n",
       "    </tr>\n",
       "    <tr>\n",
       "      <th>1</th>\n",
       "      <td>1.398904</td>\n",
       "      <td>0.005370</td>\n",
       "      <td>chr2</td>\n",
       "      <td>4000000</td>\n",
       "      <td>5000000</td>\n",
       "    </tr>\n",
       "    <tr>\n",
       "      <th>2</th>\n",
       "      <td>1.587076</td>\n",
       "      <td>0.006346</td>\n",
       "      <td>chr2</td>\n",
       "      <td>5000000</td>\n",
       "      <td>6000000</td>\n",
       "    </tr>\n",
       "    <tr>\n",
       "      <th>3</th>\n",
       "      <td>1.377859</td>\n",
       "      <td>0.006154</td>\n",
       "      <td>chr2</td>\n",
       "      <td>6000000</td>\n",
       "      <td>7000000</td>\n",
       "    </tr>\n",
       "    <tr>\n",
       "      <th>4</th>\n",
       "      <td>1.069645</td>\n",
       "      <td>0.004748</td>\n",
       "      <td>chr2</td>\n",
       "      <td>7000000</td>\n",
       "      <td>8000000</td>\n",
       "    </tr>\n",
       "  </tbody>\n",
       "</table>\n",
       "</div>"
      ],
      "text/plain": [
       "        OvE      obsv chrom    start      end\n",
       "0  1.392379  0.005106  chr2  3000000  4000000\n",
       "1  1.398904  0.005370  chr2  4000000  5000000\n",
       "2  1.587076  0.006346  chr2  5000000  6000000\n",
       "3  1.377859  0.006154  chr2  6000000  7000000\n",
       "4  1.069645  0.004748  chr2  7000000  8000000"
      ]
     },
     "execution_count": 13,
     "metadata": {},
     "output_type": "execute_result"
    }
   ],
   "source": [
    "from pandas import Series\n",
    "from numpy.random import randn\n",
    "\n",
    "#In this case anchor was 13-14Mb for chr2 starting at 3Mb == [10:11]\n",
    "\n",
    "##Observed\n",
    "ND_O=mat_dmso_ND[10:11, :]\n",
    "rowsND_O = pd.DataFrame(ND_O).transpose()\n",
    "rowsND_O.columns=['obsv']\n",
    "\n",
    "foht_O=mat_dmso_4OHT[10:11, :]\n",
    "rowsfoht_O = pd.DataFrame(foht_O).transpose()\n",
    "rowsfoht_O.columns=['obsv']\n",
    "\n",
    "##Obs/Exp\n",
    "ND=mat_dmso_ND_oe[10:11, :]\n",
    "rowsND = pd.DataFrame(ND).transpose()\n",
    "rowsND.columns=['OvE']\n",
    "\n",
    "foht=mat_dmso_4OHT_oe[10:11, :]\n",
    "rowsfoht = pd.DataFrame(foht).transpose()\n",
    "rowsfoht.columns=['OvE']\n",
    "\n",
    "###save one dataframe:\n",
    "rowsND['obsv']=rowsND_O['obsv']\n",
    "rowsND['chrom']=bins['chrom']\n",
    "rowsND['start']=bins['start']\n",
    "rowsND['end']=bins['end']\n",
    "#rowsND.to_csv('./ND_oe.bed', sep='\\t')\n",
    "\n",
    "rowsfoht['obsv']=rowsfoht_O['obsv']\n",
    "rowsfoht['chrom']=bins['chrom']\n",
    "rowsfoht['start']=bins['start']\n",
    "rowsfoht['end']=bins['end']\n",
    "#rowsfoht.to_csv('./ND_oe.bed', sep='\\t')\n",
    "\n",
    "rowsND.head()\n"
   ]
  },
  {
   "cell_type": "markdown",
   "metadata": {},
   "source": [
    "# Observed plots"
   ]
  },
  {
   "cell_type": "code",
   "execution_count": 17,
   "metadata": {},
   "outputs": [
    {
     "data": {
      "image/png": "[encoded data removed]",
      "text/plain": [
       "<Figure size 504x288 with 2 Axes>"
      ]
     },
     "metadata": {
      "needs_background": "light"
     },
     "output_type": "display_data"
    }
   ],
   "source": [
    "#Observed plots\n",
    "c1=(rowsND['obsv'])\n",
    "c1 = np.array(c1).ravel()\n",
    "c1_df = pd.DataFrame()\n",
    "c1_df['4C-interactions'] = c1.tolist()\n",
    "\n",
    "c2=(rowsfoht['obsv'])\n",
    "c2 = np.array(c2).ravel()\n",
    "c2_df = pd.DataFrame()\n",
    "c2_df['4C-interactions'] = c2.tolist()\n",
    "\n",
    "#bin identities\n",
    "bars=bins['start']\n",
    "bars_df = pd.DataFrame(bars)\n",
    "c1_df['bars']=bars.tolist()\n",
    "c2_df['bars']=bars.tolist()\n",
    "\n",
    "\n",
    "#key for reference lines\n",
    "DSBs=[10,17,29,148,150,153,154]\n",
    "ylines=[0.00125,0.0025,0.00375,0.005]\n",
    "fig, (ax1, ax2) = plt.subplots(2,figsize=[7, 4])\n",
    "#plot obsv/exp\n",
    "ax1=c1_df.plot(x='bars', y='4C-interactions',kind='bar', color='steelblue',width=1,ax=ax1)\n",
    "for xc in DSBs:\n",
    "    ax1.axvline(x=xc, color='r', linewidth=0.6,linestyle=':',zorder=10)\n",
    "ax1.axvspan(7.5, 13, color = \"lightgrey\", alpha=0.6,zorder=10)\n",
    "for yc in ylines:\n",
    "    ax1.axhline(y=yc, color='k', linewidth=0.6,linestyle=':',zorder=5)\n",
    "ax1.set_ylim(0,0.00625)\n",
    "ax1.set_xlim(0,)\n",
    "ax1.set_ylabel(\"Observed Int freq\\n\\nDMSO[-4OHT]\")\n",
    "ax1.get_legend().remove()\n",
    "ax1.set_xticks([]) \n",
    "ax1.xaxis.label.set_visible(False)\n",
    "#plot obsverved\n",
    "ax2=c2_df.plot(x='bars', y='4C-interactions',kind='bar', color='darkgoldenrod',width=1,ax=ax2)\n",
    "for xc in DSBs:\n",
    "    ax2.axvline(x=xc, color='r', linewidth=0.6,linestyle=':', zorder=10)        \n",
    "ax2.axvspan(8, 13, color = \"lightgrey\", alpha=0.6, zorder=10)\n",
    "for yc in ylines:\n",
    "    ax2.axhline(y=yc, color='k', linewidth=0.6,linestyle=':',zorder=5)\n",
    "ax2.set_xlabel(\"Chr2 position (1Mb bins)\")\n",
    "ax2.set_ylabel(\"Observed Int freq\\n\\nDMSO[+4OHT]\")\n",
    "ax2.set_ylim(0,0.00625)\n",
    "ax2.set_xlim(0,)\n",
    "ax2.get_legend().remove()\n",
    "xticks = ax2.xaxis.get_major_ticks()\n",
    "for i,tick in enumerate(xticks):\n",
    "    if i%10 != 0:\n",
    "        tick.label1.set_visible(False)\n",
    "        \n",
    "fig.tight_layout()\n",
    "#plt.savefig('/*.pdf',dpi=300,bbox_inches='tight')\n"
   ]
  },
  {
   "cell_type": "markdown",
   "metadata": {},
   "source": [
    "# Observed/Expected plots"
   ]
  },
  {
   "cell_type": "code",
   "execution_count": 18,
   "metadata": {},
   "outputs": [
    {
     "data": {
      "image/png": "[encoded data removed]",
      "text/plain": [
       "<Figure size 504x288 with 2 Axes>"
      ]
     },
     "metadata": {
      "needs_background": "light"
     },
     "output_type": "display_data"
    }
   ],
   "source": [
    "#Observed/Expected plots\n",
    "c1=(rowsND['OvE'])\n",
    "c1 = np.array(c1).ravel()\n",
    "c1_df = pd.DataFrame()\n",
    "c1_df['4C-interactions'] = c1.tolist()\n",
    "\n",
    "c2=(rowsfoht['OvE'])\n",
    "c2 = np.array(c2).ravel()\n",
    "c2_df = pd.DataFrame()\n",
    "c2_df['4C-interactions'] = c2.tolist()\n",
    "\n",
    "bars=bins['start']\n",
    "bars_df = pd.DataFrame(bars)\n",
    "c1_df['bars']=bars.tolist()\n",
    "c2_df['bars']=bars.tolist()\n",
    "\n",
    "#key for reference lines\n",
    "DSBs=[10,17,29,148,150,153,154]\n",
    "ylines=[1.5,3]\n",
    "fig, (ax1, ax2) = plt.subplots(2,figsize=[7, 4])\n",
    "\n",
    "#plot obsv/exp\n",
    "ax1=c1_df.plot(x='bars', y='4C-interactions',kind='bar', color='steelblue',width=1,ax=ax1)\n",
    "for xc in DSBs:\n",
    "    ax1.axvline(x=xc, color='r', linewidth=0.6,linestyle=':',zorder=10)\n",
    "ax1.axvspan(7.5, 13, color = \"lightgrey\", alpha=0.6,zorder=10)\n",
    "for yc in ylines:\n",
    "    ax1.axhline(y=yc, color='k', linewidth=0.6,linestyle=':',zorder=5)\n",
    "ax1.set_ylim(0,6)\n",
    "ax1.set_xlim(0,)\n",
    "ax1.set_ylabel(\"Obsv/Exp Int freq\\n\\nDMSO[-4OHT]\")\n",
    "ax1.get_legend().remove()\n",
    "ax1.set_xticks([]) \n",
    "ax1.xaxis.label.set_visible(False)\n",
    "#plot obsverved\n",
    "ax2=c2_df.plot(x='bars', y='4C-interactions',kind='bar', color='darkgoldenrod',width=1,ax=ax2)\n",
    "for xc in DSBs:\n",
    "    ax2.axvline(x=xc, color='r', linewidth=0.6,linestyle=':', zorder=10)        \n",
    "ax2.axvspan(8, 13, color = \"lightgrey\", alpha=0.6, zorder=10)\n",
    "for yc in ylines:\n",
    "    ax2.axhline(y=yc, color='k', linewidth=0.6,linestyle=':',zorder=5)\n",
    "ax2.set_xlabel(\"Chr2 position (1Mb bins)\")\n",
    "ax2.set_ylabel(\"Obsv/Exp Int freq\\n\\nDMSO[+4OHT]\")\n",
    "ax2.set_ylim(0,6)\n",
    "ax2.set_xlim(0,)\n",
    "ax2.get_legend().remove()\n",
    "xticks = ax2.xaxis.get_major_ticks()\n",
    "for i,tick in enumerate(xticks):\n",
    "    if i%10 != 0:\n",
    "        tick.label1.set_visible(False)\n",
    "        \n",
    "fig.tight_layout()       \n",
    "#plt.savefig('/*.pdf',dpi=300,bbox_inches='tight')\n"
   ]
  },
  {
   "cell_type": "markdown",
   "metadata": {},
   "source": [
    "# Difference plots"
   ]
  },
  {
   "cell_type": "code",
   "execution_count": 19,
   "metadata": {},
   "outputs": [
    {
     "name": "stderr",
     "output_type": "stream",
     "text": [
      "/home/as38w/miniconda3/envs/coolerenv_manual_master/lib/python3.7/site-packages/pandas/core/series.py:726: RuntimeWarning: divide by zero encountered in log\n",
      "  result = getattr(ufunc, method)(*inputs, **kwargs)\n"
     ]
    },
    {
     "data": {
      "image/png": "[encoded data removed]",
      "text/plain": [
       "<Figure size 504x288 with 2 Axes>"
      ]
     },
     "metadata": {
      "needs_background": "light"
     },
     "output_type": "display_data"
    }
   ],
   "source": [
    "#difference 4OHT vs control: Observed and observed/expected\n",
    "\n",
    "c1=(rowsND['OvE'])\n",
    "c2=(rowsfoht['OvE'])\n",
    "c1o=(rowsND['obsv'])\n",
    "c2o=(rowsfoht['obsv'])\n",
    "\n",
    "diff1=np.log(c2)-np.log(c1)\n",
    "diff1 = np.array(diff1).ravel()\n",
    "diff1_df = pd.DataFrame()\n",
    "diff1_df['4C-interactions'] = diff1.tolist()\n",
    "\n",
    "diff2=np.log(c2o)-np.log(c1o)\n",
    "diff2 = np.array(diff2).ravel()\n",
    "diff2_df = pd.DataFrame()\n",
    "diff2_df['4C-interactions'] = diff2.tolist()\n",
    "\n",
    "bars=bins['start']\n",
    "bars_df = pd.DataFrame(bars)\n",
    "diff1_df['bars']=bars.tolist()\n",
    "diff1_df['bars']=(diff1_df['bars']/1000000).astype(int)\n",
    "diff2_df['bars']=diff1_df['bars']\n",
    "\n",
    "DSBs=[10,17,29,148,150,153,154]\n",
    "ylines=[1,0.5,-0.5]\n",
    "\n",
    "fig, (ax1, ax2) = plt.subplots(2,figsize=[7, 4])\n",
    "diff1_df.plot(x='bars', y='4C-interactions',kind='bar', color='steelblue',zorder=10,width=1,ax=ax1)\n",
    "for xc in DSBs:\n",
    "    ax1.axvline(x=xc, color='r', linewidth=0.6,linestyle=':',zorder=5)\n",
    "ax1.axvspan(8, 13, color = \"lightgrey\", alpha=0.6)\n",
    "for yc in ylines:\n",
    "    ax1.axhline(y=yc, color='k', linewidth=0.6,linestyle=':',zorder=5)\n",
    "ax1.set_ylim(-1,1.5)\n",
    "ax1.set_xlim(0,)\n",
    "ax1.set_ylabel(\"Obsv/Exp Int freq\\n\\n[+4OHT]-[-4OHT]\")\n",
    "ax1.get_legend().remove()\n",
    "ax1.set_xticks([]) \n",
    "ax1.xaxis.label.set_visible(False)\n",
    "\n",
    "diff2_df.plot(x='bars', y='4C-interactions',kind='bar', color='darkgoldenrod',zorder=10,width=1,ax=ax2)\n",
    "for xc in DSBs:\n",
    "    ax2.axvline(x=xc, color='r', linewidth=0.6,linestyle=':', zorder=5)        \n",
    "ax2.axvspan(8, 13, color = \"lightgrey\", alpha=0.6)\n",
    "for yc in ylines:\n",
    "    ax2.axhline(y=yc, color='k', linewidth=0.6,linestyle=':',zorder=5)\n",
    "ax2.set_xlabel(\"Chr2 position (1Mb bins)\")\n",
    "ax2.set_ylabel(\"Observed Int freq\\n\\n[+4OHT]-[-4OHT]\")\n",
    "ax2.set_ylim(-1,1.5)\n",
    "ax2.set_xlim(0,)\n",
    "ax2.get_legend().remove()\n",
    "xticks = ax2.xaxis.get_major_ticks()\n",
    "for i,tick in enumerate(xticks):\n",
    "    if i%10 != 0:\n",
    "        tick.label1.set_visible(False)\n",
    "\n",
    "fig.tight_layout()\n",
    "#plt.savefig('/*diff.pdf',dpi=300,bbox_inches='tight')\n"
   ]
  },
  {
   "cell_type": "code",
   "execution_count": null,
   "metadata": {},
   "outputs": [],
   "source": []
  }
 ],
 "metadata": {
  "kernelspec": {
   "display_name": "Python 3",
   "language": "python",
   "name": "python3"
  },
  "language_info": {
   "codemirror_mode": {
    "name": "ipython",
    "version": 3
   },
   "file_extension": ".py",
   "mimetype": "text/x-python",
   "name": "python",
   "nbconvert_exporter": "python",
   "pygments_lexer": "ipython3",
   "version": "3.7.10"
  }
 },
 "nbformat": 4,
 "nbformat_minor": 4
}
