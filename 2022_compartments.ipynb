{
 "cells": [
  {
   "cell_type": "markdown",
   "metadata": {},
   "source": [
    "# compartment-related analyses\n"
   ]
  },
  {
   "cell_type": "code",
   "execution_count": null,
   "metadata": {},
   "outputs": [],
   "source": [
    "%matplotlib inline\n",
    "import matplotlib.pyplot as plt\n",
    "import numpy as np\n",
    "import pandas as pd\n",
    "import h5py\n",
    "import bioframe\n",
    "from matplotlib.gridspec import GridSpec\n",
    "from matplotlib.gridspec import GridSpecFromSubplotSpec\n",
    "import matplotlib.colors as colors\n",
    "import cooler\n",
    "import seaborn as sns\n",
    "from matplotlib.colors import ListedColormap\n",
    "import matplotlib as mpl\n",
    "import os\n",
    "import glob\n",
    "import pairtools\n",
    "import random\n",
    "import bbi\n",
    "import cooltools\n",
    "import multiprocess as mp\n",
    "\n",
    "import cooltools.eigdecomp\n",
    "import cooltools.expected\n",
    "import cooltools.saddle\n",
    "import cooler"
   ]
  },
  {
   "cell_type": "code",
   "execution_count": 2,
   "metadata": {},
   "outputs": [],
   "source": [
    "#naming \n",
    "pathDir = \"/nl/umw_job_dekker/users/as38w/JZ2022_git/coolers\"\n",
    "\n",
    "conditions = [\n",
    "    '1',\n",
    "    '2'\n",
    "]\n",
    "\n",
    "short_names = {\n",
    "    '1':'ND-dmso',\n",
    "    '2':'4OHT-dmso'\n",
    "}\n",
    "\n",
    "\n",
    "long_names = {\n",
    "    '1' : 'JZ-MEF-AsiS1-ND-dmso6h-HiCD2R1',\n",
    "    '2' : 'JZ-MEF-AsiS1-4OHT-dmso6h-HiCD2R1'    \n",
    "}\n",
    "\n",
    "\n",
    "coolerfile = {}\n",
    "for cond in conditions:\n",
    "    coolerfile[cond] = '{}/{}.mm10.nodups.65M.1000.mcool::resolutions/250000'.format(pathDir, long_names[cond])\n",
    "    \n",
    "clrs = {\n",
    "    cond: cooler.Cooler(coolerfile[cond]) for cond in conditions\n",
    "}\n",
    "binsize = 250000\n",
    "resolution=binsize\n"
   ]
  },
  {
   "cell_type": "code",
   "execution_count": 3,
   "metadata": {},
   "outputs": [
    {
     "data": {
      "text/plain": [
       "{'1': '/nl/umw_job_dekker/users/as38w/JZ2022_git/coolers/JZ-MEF-AsiS1-ND-dmso6h-HiCD2R1.mm10.nodups.65M.1000.mcool::resolutions/250000',\n",
       " '2': '/nl/umw_job_dekker/users/as38w/JZ2022_git/coolers/JZ-MEF-AsiS1-4OHT-dmso6h-HiCD2R1.mm10.nodups.65M.1000.mcool::resolutions/250000'}"
      ]
     },
     "execution_count": 3,
     "metadata": {},
     "output_type": "execute_result"
    }
   ],
   "source": [
    "coolerfile\n"
   ]
  },
  {
   "cell_type": "markdown",
   "metadata": {},
   "source": [
    "# calling compartments"
   ]
  },
  {
   "cell_type": "code",
   "execution_count": 6,
   "metadata": {},
   "outputs": [
    {
     "name": "stdout",
     "output_type": "stream",
     "text": [
      "INFO: Total memory requested is 96000 MB (4 cores x 24000 MB)\n",
      "Job <1549057> is submitted to queue <short>.\n",
      "INFO: Total memory requested is 96000 MB (4 cores x 24000 MB)\n",
      "Job <1549058> is submitted to queue <short>.\n"
     ]
    }
   ],
   "source": [
    "#Computing expected in cis/trans-check 100000\n",
    "for cond in conditions:\n",
    "    mcoolfile = coolerfile[cond]\n",
    "    expectedfile = '{}/{}.mm10.250000.cis.expected'.format(pathDir, long_names[cond])\n",
    "    !bsub -q short -W 04:00 -n 4 -R \"span[hosts=1]\" -R \"select[rh=8]\" -R rusage[mem=24000] \\\n",
    "        \"source activate coolerenv_manual_master; cooltools compute-expected -p 4 -t cis $mcoolfile -o $expectedfile\""
   ]
  },
  {
   "cell_type": "code",
   "execution_count": 7,
   "metadata": {},
   "outputs": [
    {
     "name": "stdout",
     "output_type": "stream",
     "text": [
      "INFO: Total memory requested is 96000 MB (4 cores x 24000 MB)\r\n",
      "Job <1549059> is submitted to queue <short>.\r\n"
     ]
    }
   ],
   "source": [
    "#make binned genome\n",
    "chromsizes = '/nl/umw_job_dekker/cshare/reference/sorted_chromsizes/mm10.reduced.chrom.sizes'\n",
    "mm10bins = '/nl/umw_job_dekker/users/as38w/JZ2022_git/coolers/mm10bins_250000'\n",
    "\n",
    "!bsub -q short -W 04:00 -n 4 -R \"span[hosts=1]\" -R \"select[rh=8]\" -R rusage[mem=24000] \\\n",
    "        \"source activate coolerenv_manual_master; cooler makebins -o $mm10bins $chromsizes 250000\""
   ]
  },
  {
   "cell_type": "code",
   "execution_count": 8,
   "metadata": {},
   "outputs": [
    {
     "name": "stdout",
     "output_type": "stream",
     "text": [
      "INFO: Total memory requested is 96000 MB (4 cores x 24000 MB)\r\n",
      "Job <1549061> is submitted to queue <short>.\r\n"
     ]
    }
   ],
   "source": [
    "#make gene_coverage track ... delete header\n",
    "mm10bins = '/nl/umw_job_dekker/users/as38w/JZ2022_git/coolers/mm10bins_250000'\n",
    "genecovfile = '/nl/umw_job_dekker/users/as38w/JZ2022_git/coolers/genecov_mm10_250000'\n",
    "\n",
    "!bsub -q short -W 04:00 -n 4 -R \"span[hosts=1]\" -R \"select[rh=8]\" -R rusage[mem=24000] \\\n",
    "        \"source activate coolerenv_manual_master; cooltools genome genecov $mm10bins mm10 > $genecovfile\""
   ]
  },
  {
   "cell_type": "code",
   "execution_count": 14,
   "metadata": {},
   "outputs": [
    {
     "name": "stdout",
     "output_type": "stream",
     "text": [
      "INFO: Total memory requested is 96000 MB (4 cores x 24000 MB)\n",
      "Job <1549066> is submitted to queue <short>.\n",
      "INFO: Total memory requested is 96000 MB (4 cores x 24000 MB)\n",
      "Job <1549067> is submitted to queue <short>.\n"
     ]
    }
   ],
   "source": [
    "for cond in conditions:\n",
    "    mcoolfile = coolerfile[cond]\n",
    "    compcallfile = '{}/{}.mm10.250000.compcall'.format(pathDir, long_names[cond])\n",
    "    referencetrack = '/nl/umw_job_dekker/users/as38w/JZ2022_git/coolers/genecov_mm10_250000'\n",
    "    \n",
    "    !bsub -q short -W 04:00 -n 4 -R \"span[hosts=1]\" -R \"select[rh=8]\" -R rusage[mem=24000] \\\n",
    "    \"source activate coolerenv_manual_master; cooltools call-compartments --reference-track $referencetrack --contact-type cis -o $compcallfile --bigwig $mcoolfile\"\n",
    "   "
   ]
  },
  {
   "cell_type": "markdown",
   "metadata": {},
   "source": [
    "# saddleplots and relative compartment strength"
   ]
  },
  {
   "cell_type": "code",
   "execution_count": 10,
   "metadata": {
    "scrolled": false
   },
   "outputs": [
    {
     "name": "stderr",
     "output_type": "stream",
     "text": [
      "/home/as38w/miniconda3/envs/coolerenv_manual_master/lib/python3.7/site-packages/cooltools/saddle.py:147: RuntimeWarning: invalid value encountered in true_divide\n",
      "  return obs_mat / exp_mat\n",
      "/home/as38w/miniconda3/envs/coolerenv_manual_master/lib/python3.7/site-packages/cooltools/saddle.py:147: RuntimeWarning: invalid value encountered in true_divide\n",
      "  return obs_mat / exp_mat\n",
      "/home/as38w/miniconda3/envs/coolerenv_manual_master/lib/python3.7/site-packages/cooltools/saddle.py:147: RuntimeWarning: invalid value encountered in true_divide\n",
      "  return obs_mat / exp_mat\n",
      "/home/as38w/miniconda3/envs/coolerenv_manual_master/lib/python3.7/site-packages/cooltools/saddle.py:147: RuntimeWarning: invalid value encountered in true_divide\n",
      "  return obs_mat / exp_mat\n",
      "/home/as38w/miniconda3/envs/coolerenv_manual_master/lib/python3.7/site-packages/cooltools/saddle.py:147: RuntimeWarning: invalid value encountered in true_divide\n",
      "  return obs_mat / exp_mat\n",
      "/home/as38w/miniconda3/envs/coolerenv_manual_master/lib/python3.7/site-packages/cooltools/saddle.py:147: RuntimeWarning: invalid value encountered in true_divide\n",
      "  return obs_mat / exp_mat\n",
      "/home/as38w/miniconda3/envs/coolerenv_manual_master/lib/python3.7/site-packages/cooltools/saddle.py:147: RuntimeWarning: invalid value encountered in true_divide\n",
      "  return obs_mat / exp_mat\n",
      "/home/as38w/miniconda3/envs/coolerenv_manual_master/lib/python3.7/site-packages/cooltools/saddle.py:147: RuntimeWarning: invalid value encountered in true_divide\n",
      "  return obs_mat / exp_mat\n",
      "/home/as38w/miniconda3/envs/coolerenv_manual_master/lib/python3.7/site-packages/cooltools/saddle.py:147: RuntimeWarning: invalid value encountered in true_divide\n",
      "  return obs_mat / exp_mat\n",
      "/home/as38w/miniconda3/envs/coolerenv_manual_master/lib/python3.7/site-packages/cooltools/saddle.py:147: RuntimeWarning: invalid value encountered in true_divide\n",
      "  return obs_mat / exp_mat\n",
      "/home/as38w/miniconda3/envs/coolerenv_manual_master/lib/python3.7/site-packages/ipykernel_launcher.py:42: RuntimeWarning: invalid value encountered in true_divide\n",
      "/home/as38w/miniconda3/envs/coolerenv_manual_master/lib/python3.7/site-packages/cooltools/saddle.py:475: MatplotlibDeprecationWarning: Passing parameters norm and vmin/vmax simultaneously is deprecated since 3.3 and will become an error two minor releases later. Please pass vmin/vmax directly to the norm when creating it.\n",
      "  img = ax.pcolormesh(X, Y, C, norm=norm, **heatmap_kws)\n",
      "/home/as38w/miniconda3/envs/coolerenv_manual_master/lib/python3.7/site-packages/cooltools/saddle.py:147: RuntimeWarning: invalid value encountered in true_divide\n",
      "  return obs_mat / exp_mat\n",
      "/home/as38w/miniconda3/envs/coolerenv_manual_master/lib/python3.7/site-packages/cooltools/saddle.py:147: RuntimeWarning: invalid value encountered in true_divide\n",
      "  return obs_mat / exp_mat\n",
      "/home/as38w/miniconda3/envs/coolerenv_manual_master/lib/python3.7/site-packages/cooltools/saddle.py:147: RuntimeWarning: invalid value encountered in true_divide\n",
      "  return obs_mat / exp_mat\n",
      "/home/as38w/miniconda3/envs/coolerenv_manual_master/lib/python3.7/site-packages/cooltools/saddle.py:147: RuntimeWarning: invalid value encountered in true_divide\n",
      "  return obs_mat / exp_mat\n",
      "/home/as38w/miniconda3/envs/coolerenv_manual_master/lib/python3.7/site-packages/cooltools/saddle.py:147: RuntimeWarning: invalid value encountered in true_divide\n",
      "  return obs_mat / exp_mat\n",
      "/home/as38w/miniconda3/envs/coolerenv_manual_master/lib/python3.7/site-packages/cooltools/saddle.py:147: RuntimeWarning: invalid value encountered in true_divide\n",
      "  return obs_mat / exp_mat\n",
      "/home/as38w/miniconda3/envs/coolerenv_manual_master/lib/python3.7/site-packages/cooltools/saddle.py:147: RuntimeWarning: invalid value encountered in true_divide\n",
      "  return obs_mat / exp_mat\n",
      "/home/as38w/miniconda3/envs/coolerenv_manual_master/lib/python3.7/site-packages/cooltools/saddle.py:147: RuntimeWarning: invalid value encountered in true_divide\n",
      "  return obs_mat / exp_mat\n",
      "/home/as38w/miniconda3/envs/coolerenv_manual_master/lib/python3.7/site-packages/cooltools/saddle.py:475: MatplotlibDeprecationWarning: Passing parameters norm and vmin/vmax simultaneously is deprecated since 3.3 and will become an error two minor releases later. Please pass vmin/vmax directly to the norm when creating it.\n",
      "  img = ax.pcolormesh(X, Y, C, norm=norm, **heatmap_kws)\n"
     ]
    },
    {
     "data": {
      "image/png": "[encoded data removed]",
      "text/plain": [
       "<Figure size 1152x576 with 10 Axes>"
      ]
     },
     "metadata": {
      "needs_background": "light"
     },
     "output_type": "display_data"
    }
   ],
   "source": [
    "from cooltools import saddle\n",
    "\n",
    "QUANTILE_BINNING = True\n",
    "\n",
    "binedges = {}\n",
    "digitized = {}\n",
    "hist = {}\n",
    "sums = {}\n",
    "counts = {}\n",
    "saddledata = {}\n",
    "\n",
    "gs = plt.GridSpec(nrows=1, ncols=2)\n",
    "fig = plt.figure(figsize=(16, 8))\n",
    "histbins = 30\n",
    "\n",
    "for i, cond in enumerate(['1',\n",
    "                          '2']\n",
    "):\n",
    "    exp = pd.read_table(f'{pathDir}/{long_names[cond]}.mm10.250000.cis.expected')\n",
    "    eig = pd.read_table(f'{pathDir}/{long_names[cond]}.mm10.250000.compcall.cis.vecs.tsv')\n",
    "\n",
    "# Determine how to bin the range of the E1 signal\n",
    "    if QUANTILE_BINNING:\n",
    "        q_binedges = np.linspace(0.002, 0.998, histbins)\n",
    "        binedges[cond] = saddle.quantile(eig['E1'], q_binedges)\n",
    "    else:\n",
    "        qlo, qhi = saddle.quantile(eig['E1'], [0.02, 0.98])  # trim outliers\n",
    "        binedges[cond] = np.linspace(qlo, qhi, histbins)\n",
    "# Digitize the signal into integers\n",
    "    digitized[cond], hist[cond] = saddle.digitize_track(\n",
    "        binedges[cond], \n",
    "        track=(eig, 'E1'))\n",
    "# Construct a function that fetches and calculates observed/expected\n",
    "    getmatrix = saddle.make_cis_obsexp_fetcher(clrs[cond], (exp, 'balanced.avg'))\n",
    "    \n",
    "# Build the saddle histogram\n",
    "    sums[cond], counts[cond] = saddle.make_saddle(\n",
    "        getmatrix, \n",
    "        binedges[cond],\n",
    "        (digitized[cond], 'E1.d'), \n",
    "        contact_type='cis')\n",
    "    saddledata[cond] = sums[cond] / counts[cond]\n",
    "# Make the saddle plot\n",
    "    g = saddle.saddleplot(\n",
    "        q_binedges if QUANTILE_BINNING else binedges[cond],\n",
    "        hist[cond],\n",
    "        saddledata[cond], \n",
    "        color=\"palegoldenrod\",\n",
    "        heatmap_kws={'vmin': 0.3, 'vmax': 3}, \n",
    "        fig=fig, \n",
    "        subplot_spec=gs[i])\n",
    "\n",
    "#plt.savefig(\"\", bbox_inches='tight')\n"
   ]
  },
  {
   "cell_type": "code",
   "execution_count": 11,
   "metadata": {},
   "outputs": [
    {
     "name": "stderr",
     "output_type": "stream",
     "text": [
      "/home/as38w/miniconda3/envs/coolerenv_manual_master/lib/python3.7/site-packages/cooltools/saddle.py:562: RuntimeWarning: invalid value encountered in double_scalars\n",
      "  inter = inter_sum / inter_count\n"
     ]
    }
   ],
   "source": [
    "strength = {\n",
    "    cond: saddle.saddle_strength(sums[cond], counts[cond]) \n",
    "        for cond in ['1',\n",
    "                     '2']\n",
    "}"
   ]
  },
  {
   "cell_type": "code",
   "execution_count": 12,
   "metadata": {},
   "outputs": [],
   "source": [
    "def saddle_strength_AB(S, C): \n",
    "    \"\"\"\n",
    "    Parameters\n",
    "    ----------\n",
    "    S, C : 2D arrays, square, same shape\n",
    "        Saddle sums and counts, respectively\n",
    "        \n",
    "    Returns\n",
    "    -------\n",
    "    2x1D array\n",
    "    Ratios of cumulative corner interaction scores, where the saddle data is \n",
    "    separately AA/AB and BB/BA corners with increasing extent\n",
    "    \n",
    "    \"\"\"\n",
    "    m, n = S.shape\n",
    "    if m != n:\n",
    "        raise ValueError(\"`saddledata` should be square.\")\n",
    "\n",
    "    ratiosA = np.zeros(n)\n",
    "    for k in range(0, n):\n",
    "        intra_sumA = S[n-k:n, n-k:n].sum() \n",
    "        intra_countA = C[n-k:n, n-k:n].sum()\n",
    "        intraA = intra_sumA / intra_countA\n",
    "        \n",
    "        inter_sum = S[0:k, n-k:n].sum() + S[n-k:n, 0:k].sum()\n",
    "        inter_count =  C[0:k, n-k:n].sum() + C[n-k:n, 0:k].sum()\n",
    "        inter = inter_sum / inter_count #Don't need divide AB + BA by 2 since ratio and cancels out \n",
    "        \n",
    "        ratiosA[k] = intraA / inter\n",
    "        \n",
    "    ratiosB = np.zeros(n)\n",
    "    for k in range(0, n):\n",
    "        intra_sumB = S[0:k, 0:k].sum()\n",
    "        intra_countB = C[0:k, 0:k].sum()\n",
    "        intraB = intra_sumB / intra_countB\n",
    "        \n",
    "        inter_sum = S[0:k, n-k:n].sum() + S[n-k:n, 0:k].sum()\n",
    "        inter_count =  C[0:k, n-k:n].sum() + C[n-k:n, 0:k].sum()\n",
    "        inter = inter_sum / inter_count\n",
    "        \n",
    "        ratiosB[k] = intraB / inter\n",
    "    \n",
    "    ratios = {\n",
    "        'A' : ratiosA,\n",
    "        'B' : ratiosB\n",
    "    }\n",
    "    \n",
    "    return ratios\n"
   ]
  },
  {
   "cell_type": "code",
   "execution_count": 13,
   "metadata": {},
   "outputs": [
    {
     "name": "stderr",
     "output_type": "stream",
     "text": [
      "/home/as38w/miniconda3/envs/coolerenv_manual_master/lib/python3.7/site-packages/ipykernel_launcher.py:23: RuntimeWarning: invalid value encountered in double_scalars\n",
      "/home/as38w/miniconda3/envs/coolerenv_manual_master/lib/python3.7/site-packages/ipykernel_launcher.py:27: RuntimeWarning: invalid value encountered in double_scalars\n",
      "/home/as38w/miniconda3/envs/coolerenv_manual_master/lib/python3.7/site-packages/ipykernel_launcher.py:35: RuntimeWarning: invalid value encountered in double_scalars\n",
      "/home/as38w/miniconda3/envs/coolerenv_manual_master/lib/python3.7/site-packages/ipykernel_launcher.py:39: RuntimeWarning: invalid value encountered in double_scalars\n"
     ]
    },
    {
     "data": {
      "text/plain": [
       "Text(0.5, 1.0, 'MEF-4OHT-dmso')"
      ]
     },
     "execution_count": 13,
     "metadata": {},
     "output_type": "execute_result"
    },
    {
     "data": {
      "image/png": "[encoded data removed]",
      "text/plain": [
       "<Figure size 1152x360 with 2 Axes>"
      ]
     },
     "metadata": {
      "needs_background": "light"
     },
     "output_type": "display_data"
    }
   ],
   "source": [
    "strengthAB = {\n",
    "    cond: saddle_strength_AB(sums[cond], counts[cond]) \n",
    "        for cond in ['1',\n",
    "                     '2']\n",
    "}\n",
    "\n",
    "#hist for A\n",
    "y1=strengthAB['1']['A'][2:][::-1]\n",
    "y1[np.isnan(y1)] = 0\n",
    "y1 = np.insert(y1, 29,0)\n",
    "\n",
    "y2=strengthAB['2']['A'][2:][::-1]\n",
    "y2[np.isnan(y2)] = 0\n",
    "y2 = np.insert(y2, 29,0)\n",
    "\n",
    "#hist for B\n",
    "z1=strengthAB['1']['B'][2:]\n",
    "z1[np.isnan(z1)] = 0\n",
    "\n",
    "z2=strengthAB['2']['B'][2:]\n",
    "z2[np.isnan(z2)] = 0\n",
    "\n",
    "\n",
    "#PLOTTING\n",
    "gs = plt.GridSpec(nrows=1, ncols=2, width_ratios=[20] * len(conditions))\n",
    "plt.figure(figsize=(16,5))\n",
    "\n",
    "x = np.arange(histbins)\n",
    "\n",
    "plt.subplot(gs[0])\n",
    "plt.bar(x[:29], z1, color='goldenrod', alpha=0.8, width=1, edgecolor=\"k\")\n",
    "plt.bar(x[0:], y1, color='gold', alpha=0.8, width=1, edgecolor=\"k\", zorder=10)\n",
    "plt.axhline(5, c='grey', ls='--', lw=1, alpha=0.6)\n",
    "plt.axhline(7.5, c='grey', ls=':', lw=1, alpha=0.6)\n",
    "plt.axhline(10, c='grey', ls='--', lw=1, alpha=0.6)\n",
    "plt.axhline(15, c='grey', ls='--', lw=1, alpha=0.6)\n",
    "#plt.annotate(xy=(31,2.5), text=\"2.5\")\n",
    "plt.annotate(xy=(31,5), text=\"5\",zorder=1)\n",
    "plt.annotate(xy=(31,10), text=\"10\", zorder=1)\n",
    "plt.annotate(xy=(31,15), text=\"15\", zorder=1)\n",
    "plt.axhspan(0, 5, alpha=0.025, color='grey',zorder=1)\n",
    "plt.axhspan(5, 10, alpha=0.05, color='grey',zorder=1)\n",
    "plt.axhspan(10, 15, alpha=0.1, color='grey',zorder=1)\n",
    "plt.axhspan(15, 20, alpha=0.15, color='grey',zorder=1)\n",
    "plt.ylim((-1,17))\n",
    "plt.xlim((-1,29))\n",
    "#plt.xticks(color='w')\n",
    "plt.gca().axison = False\n",
    "plt.title('MEF-ND-dmso')\n",
    "\n",
    "plt.subplot(gs[1])\n",
    "plt.bar(x[:29], z2, color='goldenrod', alpha=0.8, width=1, edgecolor=\"k\")\n",
    "plt.bar(x[0:], y2, color='gold', alpha=0.8, width=1, edgecolor=\"k\", zorder=10)\n",
    "plt.axhline(5, c='grey', ls='--', lw=1, alpha=0.6)\n",
    "plt.axhline(7.5, c='grey', ls=':', lw=1, alpha=0.6)\n",
    "plt.axhline(10, c='grey', ls='--', lw=1, alpha=0.6)\n",
    "plt.axhline(15, c='grey', ls='--', lw=1, alpha=0.6)\n",
    "#plt.annotate(xy=(31,2.5), text=\"2.5\")\n",
    "plt.annotate(xy=(31,5), text=\"5\",zorder=1)\n",
    "plt.annotate(xy=(31,10), text=\"10\", zorder=1)\n",
    "plt.annotate(xy=(31,15), text=\"15\", zorder=1)\n",
    "plt.axhspan(0, 5, alpha=0.025, color='grey',zorder=1)\n",
    "plt.axhspan(5, 10, alpha=0.05, color='grey',zorder=1)\n",
    "plt.axhspan(10, 15, alpha=0.1, color='grey',zorder=1)\n",
    "plt.axhspan(15, 20, alpha=0.15, color='grey',zorder=1)\n",
    "plt.ylim((-1,17))\n",
    "plt.xlim((-1,29))\n",
    "plt.gca().axison = False\n",
    "plt.title('MEF-4OHT-dmso')\n",
    "\n",
    "#plt.savefig(\"*.pdf\", bbox_inches='tight')\n"
   ]
  },
  {
   "cell_type": "code",
   "execution_count": 14,
   "metadata": {},
   "outputs": [
    {
     "data": {
      "text/plain": [
       "{'1': 7.337197777468752, '2': 8.750949792933065}"
      ]
     },
     "execution_count": 14,
     "metadata": {},
     "output_type": "execute_result"
    }
   ],
   "source": [
    "sB={}\n",
    "for cond in conditions:\n",
    "        sB0=strengthAB[cond]['B'][2:8]\n",
    "        sB0[np.isnan(sB0)] = 0\n",
    "        sB0=np.sum(sB0[:])/6\n",
    "        sB[cond]=sB0\n",
    "sB\n"
   ]
  },
  {
   "cell_type": "code",
   "execution_count": 15,
   "metadata": {},
   "outputs": [
    {
     "data": {
      "text/plain": [
       "{'1': 5.352202593798331, '2': 5.14860732910453}"
      ]
     },
     "execution_count": 15,
     "metadata": {},
     "output_type": "execute_result"
    }
   ],
   "source": [
    "sA={}\n",
    "for cond in conditions:\n",
    "        sA0=strengthAB[cond]['A'][2:8]\n",
    "        sA0[np.isnan(sA0)] = 0\n",
    "        sA0=np.sum(sA0[:])/6\n",
    "        sA[cond]=sA0\n",
    "sA\n"
   ]
  },
  {
   "cell_type": "markdown",
   "metadata": {},
   "source": [
    "# compartment flips"
   ]
  },
  {
   "cell_type": "code",
   "execution_count": 16,
   "metadata": {},
   "outputs": [
    {
     "data": {
      "text/html": [
       "<div>\n",
       "<style scoped>\n",
       "    .dataframe tbody tr th:only-of-type {\n",
       "        vertical-align: middle;\n",
       "    }\n",
       "\n",
       "    .dataframe tbody tr th {\n",
       "        vertical-align: top;\n",
       "    }\n",
       "\n",
       "    .dataframe thead th {\n",
       "        text-align: right;\n",
       "    }\n",
       "</style>\n",
       "<table border=\"1\" class=\"dataframe\">\n",
       "  <thead>\n",
       "    <tr style=\"text-align: right;\">\n",
       "      <th></th>\n",
       "      <th>chrom</th>\n",
       "      <th>start</th>\n",
       "      <th>end</th>\n",
       "      <th>E1</th>\n",
       "    </tr>\n",
       "  </thead>\n",
       "  <tbody>\n",
       "    <tr>\n",
       "      <th>12</th>\n",
       "      <td>chr1</td>\n",
       "      <td>3000000</td>\n",
       "      <td>3250000</td>\n",
       "      <td>-0.890481</td>\n",
       "    </tr>\n",
       "    <tr>\n",
       "      <th>13</th>\n",
       "      <td>chr1</td>\n",
       "      <td>3250000</td>\n",
       "      <td>3500000</td>\n",
       "      <td>-1.184488</td>\n",
       "    </tr>\n",
       "    <tr>\n",
       "      <th>14</th>\n",
       "      <td>chr1</td>\n",
       "      <td>3500000</td>\n",
       "      <td>3750000</td>\n",
       "      <td>-1.221217</td>\n",
       "    </tr>\n",
       "    <tr>\n",
       "      <th>15</th>\n",
       "      <td>chr1</td>\n",
       "      <td>3750000</td>\n",
       "      <td>4000000</td>\n",
       "      <td>-1.080466</td>\n",
       "    </tr>\n",
       "    <tr>\n",
       "      <th>16</th>\n",
       "      <td>chr1</td>\n",
       "      <td>4000000</td>\n",
       "      <td>4250000</td>\n",
       "      <td>-1.012384</td>\n",
       "    </tr>\n",
       "  </tbody>\n",
       "</table>\n",
       "</div>"
      ],
      "text/plain": [
       "   chrom    start      end        E1\n",
       "12  chr1  3000000  3250000 -0.890481\n",
       "13  chr1  3250000  3500000 -1.184488\n",
       "14  chr1  3500000  3750000 -1.221217\n",
       "15  chr1  3750000  4000000 -1.080466\n",
       "16  chr1  4000000  4250000 -1.012384"
      ]
     },
     "execution_count": 16,
     "metadata": {},
     "output_type": "execute_result"
    }
   ],
   "source": [
    "eig1=pd.read_csv('/nl/umw_job_dekker/users/as38w/JZ2022_git/coolers/JZ-MEF-AsiS1-ND-dmso6h-HiCD2R1.mm10.250000.compcall.cis.vecs.tsv',sep='\\t')\n",
    "eig1=eig1[['chrom','start','end','E1']].dropna()\n",
    "eig2=pd.read_csv('/nl/umw_job_dekker/users/as38w/JZ2022_git/coolers/JZ-MEF-AsiS1-4OHT-dmso6h-HiCD2R1.mm10.250000.compcall.cis.vecs.tsv',sep='\\t')\n",
    "eig2=eig2[['chrom','start','end','E1']].dropna()\n",
    "eig1.head()\n"
   ]
  },
  {
   "cell_type": "code",
   "execution_count": 37,
   "metadata": {},
   "outputs": [
    {
     "name": "stdout",
     "output_type": "stream",
     "text": [
      "10245 5454 4791\n",
      "10222 6100 4122\n"
     ]
    }
   ],
   "source": [
    "eig1_tota=eig1[(eig1['E1']>0)]\n",
    "eig1_totb=eig1[(eig1['E1']<0)]\n",
    "eig2_tota=eig2[(eig2['E1']>0)]\n",
    "eig2_totb=eig2[(eig2['E1']<0)]\n",
    "print(len(eig1), len(eig1_tota),len(eig1_totb))\n",
    "#10245 5454 4791\n",
    "print(len(eig2), len(eig2_tota),len(eig2_totb))\n",
    "#10222 6100 4122\n"
   ]
  },
  {
   "cell_type": "code",
   "execution_count": 38,
   "metadata": {},
   "outputs": [
    {
     "name": "stdout",
     "output_type": "stream",
     "text": [
      "     #A    #B    tot        pA\n",
      "0  5454  4791  10245  0.532357\n",
      "1  6100  4122  10222  0.596752\n"
     ]
    }
   ],
   "source": [
    "bins_250cis_dict = {'#A': [5454,6100], '#B': [4791,4122]}\n",
    "bins_250cis = pd.DataFrame(data=bins_250cis_dict)\n",
    "bins_250cis['tot']=bins_250cis['#A']+bins_250cis['#B']\n",
    "bins_250cis['pA']=bins_250cis['#A']/bins_250cis['tot']\n",
    "print(bins_250cis)\n"
   ]
  },
  {
   "cell_type": "code",
   "execution_count": 42,
   "metadata": {},
   "outputs": [
    {
     "data": {
      "image/png": "[encoded data removed]",
      "text/plain": [
       "<Figure size 432x108 with 1 Axes>"
      ]
     },
     "metadata": {
      "needs_background": "light"
     },
     "output_type": "display_data"
    }
   ],
   "source": [
    "A=bins_250cis['pA']*100\n",
    "B=(1-bins_250cis['pA'])*100\n",
    "labels=['ND-DMSO-R1', '4OHT-DMSO-R1']\n",
    "width=0.8\n",
    "\n",
    "fig, ax = plt.subplots(figsize=(6,1.5))\n",
    "\n",
    "ax.barh(labels, A, width, label='A compartment', edgecolor='k', color='#fe0002', alpha=0.7)\n",
    "ax.barh(labels, B, width, label='B compartment', left=A, edgecolor='k', color='#021bf9', alpha=0.7)\n",
    "\n",
    "ax.set_xlabel('% bins @250kb')\n",
    "ax.invert_yaxis()  # labels read top-to-bottom\n",
    "ax.legend(loc='upper left')\n",
    "ax.set_xlim(0,100)\n",
    "plt.legend(bbox_to_anchor=(1.05, 1), loc='upper left', borderaxespad=0.)\n",
    "plt.axvline(50, c='white', lw=1, ls='--')\n",
    "ax.set_facecolor(\"gainsboro\")\n",
    "\n",
    "fig.tight_layout()\n",
    "#plt.savefig('*.pdf', dpi=300, bbox_inches='tight')\n"
   ]
  },
  {
   "cell_type": "code",
   "execution_count": 43,
   "metadata": {},
   "outputs": [
    {
     "name": "stdout",
     "output_type": "stream",
     "text": [
      "86 738 5454 4791\n"
     ]
    }
   ],
   "source": [
    "#4OHTvND\n",
    "eig1['eig2']=eig2['E1']\n",
    "eig1_bta=eig1[(eig1['E1']<0) & (eig1['eig2']>0)]\n",
    "eig1_atb=eig1[(eig1['E1']>0) & (eig1['eig2']<0)]\n",
    "eig1_tota=eig1[(eig1['E1']>0)]\n",
    "eig1_totb=eig1[(eig1['E1']<0)]\n",
    "\n",
    "print(len(eig1_atb),len(eig1_bta),len(eig1_tota),len(eig1_totb))\n",
    "#86 738 5454 4791\n"
   ]
  },
  {
   "cell_type": "code",
   "execution_count": 47,
   "metadata": {},
   "outputs": [
    {
     "data": {
      "image/png": "[encoded data removed]",
      "text/plain": [
       "<Figure size 198x288 with 1 Axes>"
      ]
     },
     "metadata": {},
     "output_type": "display_data"
    }
   ],
   "source": [
    "atb=[(86/5454)*100]\n",
    "bta=[(738/4791)*100]\n",
    "labels=['DMSO']\n",
    "\n",
    "x = np.arange(len(labels))\n",
    "width = 0.2 # the width of the bars\n",
    "\n",
    "fig, ax = plt.subplots(figsize=(2.75,4), facecolor='white')\n",
    "rects1 = ax.bar(x - width/2, atb, width, color='white', alpha=1, edgecolor='white',zorder=5)\n",
    "rects2 = ax.bar(x + width/2, bta, width, color='white', alpha=1, edgecolor='white', zorder=5)\n",
    "\n",
    "rects1 = ax.bar(x - width/2, atb, width, label='A to B', color='#021bf9', alpha=0.7, edgecolor='k',zorder=10)\n",
    "rects2 = ax.bar(x + width/2, bta, width, label='B to A', color='#fe0002', alpha=0.7, edgecolor='k', zorder=10)\n",
    "\n",
    "\n",
    "ax.set_ylabel('% of bins flipped \\n(4OHT vs ND)')\n",
    "ax.set_title('Bin flips (250kb)', pad=20)\n",
    "ax.set_xticks(x)\n",
    "ax.set_yticks([5,10,15])\n",
    "ax.set_xticklabels(labels, rotation='45', ha='right', rotation_mode=\"anchor\")\n",
    "ax.legend()\n",
    "ax.grid(which='major', axis='y', zorder=0, color='white',linestyle='--')\n",
    "ax.set_facecolor(\"gainsboro\")\n",
    "plt.legend(bbox_to_anchor=(1.05, 1), loc='upper left', borderaxespad=0.)\n",
    "plt.ylim((0,17))\n",
    "\n",
    "fig.tight_layout()\n",
    "#plt.savefig('*.pdf', dpi = 300, bbox_inches='tight')\n"
   ]
  },
  {
   "cell_type": "code",
   "execution_count": 48,
   "metadata": {},
   "outputs": [],
   "source": [
    "#comparing 1 and 2\n",
    "eig1['eig2_E1']=eig2['E1']\n",
    "#absolute differences\n",
    "eig1['abs_d1_2'] = abs(eig1['E1']-eig1['eig2_E1'])\n",
    "#adding direction of change\n",
    "eig1.loc[(eig1['E1']<eig1['eig2_E1']), 'sign_d1_2'] = '+'\n",
    "eig1.loc[(eig1['E1']>eig1['eig2_E1']), 'sign_d1_2'] = '-'\n",
    "eig1['d1_2']=eig1['sign_d1_2']+eig1['abs_d1_2'].astype(str)\n",
    "eig1['d1_2']=eig1['d1_2'].fillna(0)\n",
    "eig1['d1_2']=eig1['d1_2'].astype(float)\n",
    "eig1_a=eig1[eig1['E1']>0]\n",
    "eig1_b=eig1[eig1['E1']<0]\n"
   ]
  },
  {
   "cell_type": "code",
   "execution_count": 49,
   "metadata": {},
   "outputs": [],
   "source": [
    "eig1.loc[(eig1['eig2_E1']<0), 'colour'] = 'E1 <0 +4OHT'\n",
    "eig1.loc[(eig1['eig2_E1']>0), 'colour'] = 'E1 >0 +4OHT'\n",
    "\n",
    "diff_df = pd.DataFrame()\n",
    "diff=(eig1['d1_2'])\n",
    "diff = np.array(diff).ravel()\n",
    "diff_df['E1change'] = diff.tolist()\n",
    "\n",
    "E1_1=eig1['E1']\n",
    "diff_df['E1']=E1_1.tolist()\n",
    "colour=eig1['colour']\n",
    "diff_df['colour']=colour.tolist()\n",
    "\n",
    "bins=pd.IntervalIndex.from_tuples([(-2.2,-2),(-2, -1.8), (-1.8, -1.6), (-1.6, -1.4), (-1.4, -1.2), (-1.2, -1),(-1, -0.8), (-0.8, -0.6), (-0.6, -0.4), (-0.4, -0.2), (-0.2, 0), (0, 0.2),(0.2, 0.4),(0.4, 0.6),(0.6, 0.8), (0.8, 1),(1, 1.2),(1.2, 1.4),(1.4, 1.6),(1.6, 1.8), (1.8, 2)])\n",
    "diff_df['bin'] = pd.cut(diff_df['E1'], bins)\n",
    "\n"
   ]
  },
  {
   "cell_type": "code",
   "execution_count": 53,
   "metadata": {},
   "outputs": [
    {
     "data": {
      "image/png": "[encoded data removed]",
      "text/plain": [
       "<Figure size 576x360 with 1 Axes>"
      ]
     },
     "metadata": {
      "needs_background": "light"
     },
     "output_type": "display_data"
    }
   ],
   "source": [
    "diff_df=diff_df[(diff_df['E1change']<=1.75) & (diff_df['E1change']>=-1.75)&(diff_df['E1']<=1.8)&(diff_df['E1']>=-1.8)]\n",
    "\n",
    "green_diamond = dict(markerfacecolor='black', marker='o',markersize=1,markeredgecolor='none', linewidth=0, alpha=0)\n",
    "\n",
    "fig, ax1 = plt.subplots(nrows=1, ncols=1, figsize=(8, 5))\n",
    "\n",
    "ax1=sns.stripplot(x='bin', y='E1change', data=diff_df,hue='colour',palette=['#021bf9','#fe0002'], size=1.5,alpha=0.9, linewidth=0,dodge=False,jitter=0.25, marker=\"o\")\n",
    "ax1.axhline(y=0, color='grey', linewidth=1.0, linestyle='--')\n",
    "ax1.axvline(x=10.5, color='grey', linewidth=1.0, linestyle='--')\n",
    "ax1.axvspan(0,10.5, color = \"cornflowerblue\", alpha=0.08,zorder=0)\n",
    "ax1.axvspan(10.5,18, color = \"tomato\", alpha=0.08,zorder=0)\n",
    "ax1.set(ylim=(-0.55,0.55))\n",
    "ax1.set(xlim=(4.5,15.5))\n",
    "ax1.set_xticklabels(labels= (' ', ' ', '-1.8:-1.6','-1.6:-1.4','-1.4:-1.2','-{1.2-1}','-{1-0.8}', '-{0.8-0.6}', '-{0.6-0.4}','-{0.4-0.2}','-{0.2-0}','0:0.2','0.2:0.4','0.4:0.6', '0.6:0.8', '0.8:1.0', '1.0:1.2', ' ', ' ', '1.6:1.8','2'),\n",
    "                    rotation = 90,ha='center')\n",
    "plt.legend(bbox_to_anchor=(1.05, 1), loc='upper left', borderaxespad=0.)\n",
    "ax1.set_xlabel('E1 : ND bins',labelpad=15)\n",
    "ax1.set_ylabel(r'$\\Delta$ E1 (4OHT - ND)',labelpad=10)\n",
    "ax1.grid(color='white', linewidth=1)\n",
    "\n",
    "fig.tight_layout()\n",
    "#plt.savefig('*.pdf', dpi = 300, bbox_inches='tight')\n"
   ]
  },
  {
   "cell_type": "code",
   "execution_count": null,
   "metadata": {},
   "outputs": [],
   "source": []
  }
 ],
 "metadata": {
  "kernelspec": {
   "display_name": "Python 3",
   "language": "python",
   "name": "python3"
  },
  "language_info": {
   "codemirror_mode": {
    "name": "ipython",
    "version": 3
   },
   "file_extension": ".py",
   "mimetype": "text/x-python",
   "name": "python",
   "nbconvert_exporter": "python",
   "pygments_lexer": "ipython3",
   "version": "3.7.10"
  }
 },
 "nbformat": 4,
 "nbformat_minor": 4
}
